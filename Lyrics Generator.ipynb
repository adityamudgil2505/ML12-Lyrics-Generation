{
 "cells": [
  {
   "cell_type": "markdown",
   "metadata": {},
   "source": [
    "# Challenge - Apna Time Aaega!\n",
    "## Apna Time Aayega - Lyrics Generation!\n",
    "### Use Markov Chains to create a Predictive Model for Text\n",
    "In this fun challenge, you will generate song lyrics for 'Apna Time Aaega' using Machine Learning for the movie Gully Boy (2019 Indian Hindi-language musical drama film). You are given a training set which contains lyrics created by Ranveer Singh, your task is to train a model using Markov Chains to generate lyrics which look similar to actual lyrics.\n",
    "\n",
    "<img src=\"1651780.svg\" width = 10% style=\"text-align:left;\">\n",
    "\n",
    "## Dataset\n",
    "Dataset contains the text file containing actual lyrics of the song. Since the data-set is scrapped from the internet you need to remove the starting and ending\n",
    "tags and clean it before feeding to model.\n",
    "### Train\n",
    "https://www.dropbox.com/s/b194dcosl4ri6eh/Apna%20Time%20Aayega.txt?dl=1\n",
    "### Test\n",
    "\n",
    "\n",
    "## Submission Format\n",
    "Submit a '.txt' file containing generated lyrics upto 2000 characters. Your model should be able to generate new line characters as well.\n",
    "\n",
    "Your lyrics must start with the word 'apna' and use numpy random seed of 11 (for consistent result and avoid any randomization).\n",
    "\n",
    "You result will be evaluated word by word with the expected output given by Markov Chain.\n",
    "\n",
    "You can assume prediction of current character depends only on last 4 characters (Use K=4 in Markov Chain Model)\n",
    "\n",
    "## Scoring\n",
    "\n",
    "Your score will depend upon number of words matched with the expected output. Take care of white spaces including new line characters."
   ]
  },
  {
   "cell_type": "markdown",
   "metadata": {},
   "source": [
    "## Importing Libraries"
   ]
  },
  {
   "cell_type": "code",
   "execution_count": 49,
   "metadata": {},
   "outputs": [],
   "source": [
    "import numpy as np"
   ]
  },
  {
   "cell_type": "code",
   "execution_count": 50,
   "metadata": {},
   "outputs": [
    {
     "name": "stdout",
     "output_type": "stream",
     "text": [
      "apna time aayega\n",
      "uth ja apni raakh se\n",
      "tu udd ja ab\n"
     ]
    }
   ],
   "source": [
    "def loadDataset(path):\n",
    "    with open(path) as f:\n",
    "        return f.read().lower()\n",
    "    \n",
    "x_train = loadDataset('./Apna Time Aayega.txt')\n",
    "print(x_train[:50])"
   ]
  },
  {
   "cell_type": "markdown",
   "metadata": {},
   "source": [
    "## Creating Markov Chain Model"
   ]
  },
  {
   "cell_type": "code",
   "execution_count": 51,
   "metadata": {},
   "outputs": [],
   "source": [
    "def generateTable(text, k=4):\n",
    "    T = {}\n",
    "    for i in range(len(text) - k):\n",
    "        x = text[i:i+k]\n",
    "        y = text[i+k]\n",
    "        if T.get(x) == None:\n",
    "            T[x] = {}\n",
    "            T[x][y] = 1\n",
    "        else:\n",
    "            if T[x].get(y) == None:\n",
    "                T[x][y] = 1\n",
    "            else:\n",
    "                T[x][y] += 1\n",
    "    return T"
   ]
  },
  {
   "cell_type": "code",
   "execution_count": 52,
   "metadata": {},
   "outputs": [],
   "source": [
    "def convertFreqToProbability(T):\n",
    "    for word in T.keys():\n",
    "        total_freq = sum(T[word].values())\n",
    "        for y in T[word].keys():\n",
    "            T[word][y] /= total_freq\n",
    "    return T"
   ]
  },
  {
   "cell_type": "code",
   "execution_count": 53,
   "metadata": {},
   "outputs": [],
   "source": [
    "def trainMarkovChain(text, k=4):\n",
    "    T = generateTable(text)\n",
    "    T = convertFreqToProbability(T)\n",
    "    return T"
   ]
  },
  {
   "cell_type": "code",
   "execution_count": 54,
   "metadata": {},
   "outputs": [],
   "source": [
    "np.random.seed(11)\n",
    "def samplingText(start_seq, T, k):\n",
    "    start_seq = start_seq[-k:]\n",
    "    if T.get(start_seq) == None:\n",
    "        return \" \"\n",
    "    possible_char = list(T[start_seq].keys())\n",
    "    possible_val = list(T[start_seq].values())\n",
    "    \n",
    "    return np.random.choice(possible_char, p = possible_val)"
   ]
  },
  {
   "cell_type": "code",
   "execution_count": 55,
   "metadata": {},
   "outputs": [],
   "source": [
    "def generatingText(start_seq, model, k=4, max_len=1000):\n",
    "    sentence = start_seq\n",
    "    start_seq = start_seq[-k:]\n",
    "    for i in range(max_len):\n",
    "        next_prediction = samplingText(start_seq, model, k)\n",
    "        sentence = sentence + next_prediction\n",
    "        start_seq = sentence[-k:]\n",
    "    \n",
    "    return sentence"
   ]
  },
  {
   "cell_type": "code",
   "execution_count": 56,
   "metadata": {},
   "outputs": [
    {
     "name": "stdout",
     "output_type": "stream",
     "text": [
      "apna time aaya hath nahi\n",
      "utna hi to aaya hai seene se\n",
      "matlab bana lala\n",
      "mere bhai tu\n",
      "utna time aaya hai\n",
      "phir bhi satayega\n",
      "zinda mera khud ki hai, amaana lala\n",
      "tujhe na mila paseene se jeenenge\n",
      "sab kuchh mil payega\n",
      "jitni rehmat mein\n",
      "har raakh se\n",
      "tu nanga hi to khauf nahin hai jaisa koyi hai seene mein nahi hai\n",
      "kyon ki ab laalach nai hai\n",
      "kya ghanta lekar jaayega\n",
      "kya tu dafnayega\n",
      "apna time aayega\n",
      "kya tu ghanta lekar..\n",
      " \n",
      "kyon\n",
      "kyon ka hai\n",
      "kya ghanta lekar jaayega\n",
      "apna time aayega\n",
      "zinda mera khwaab hai chheene mein\n",
      " \n",
      "kyon ki hai jaisa shaan pighlayega\n",
      "jitni taakat ne hi barkat ki mehnat ki, amaana ab talaash mein\n",
      "parwane ki hai\n",
      "jo darr ko bhi ladka sehmat mein nahi\n",
      "utna hi to khaayega\n",
      " \n",
      "yeh shabdon ka hai\n",
      "zaroorat ki\n",
      "himaakat di hairat ki, ibaadat ki hai\n",
      "kya ghanta lekar jaayega\n",
      "apna time aayega\n",
      " \n",
      "tu nanga hi barkat ki\n",
      "adalat yahaan par\n",
      "yahaan marzi ki\n",
      "jeetne ki\n",
      "jeetne ki mehnat se main\n",
      "jitna hi to aayega\n",
      " \n",
      "ab hai\n",
      "kya tu dafnayega\n",
      "mere jaisa mera khud ki hai\n",
      "kya ghanta lekar jaayega\n",
      "kya tu ghanta lekar..\n",
      " \n",
      "kissi ka hai\n",
      "kya ghanta lekar..\n",
      " \n",
      "kissi ka jwala\n",
      "meri bediyan parwaaz dekh par aaya hai\n",
      "kya ghanta lekar jaayega\n",
      "aayega\n",
      "apna time aayega\n",
      "aayega\n",
      "apna time aaya hath nai hai\n",
      "zaroorat ki\n",
      "mohobbat ki, aafat ki hai jaisa shaanat ki\n",
      "aur jurrat yahaan marzi ki\n",
      "adalat yeh shabdon ki ab aadat ki apna time aaya khwaab\n",
      "ab kaise tu ghanta lekar jaayega\n",
      "uth ja ab jeene mein hai\n",
      "phir bhi sar uthayega\n",
      " \n",
      "taakat ki\n",
      "himaakat ki mehnat se main\n",
      "jitna time aayega\n",
      "apna time aayega\n",
      "apna time aaya hai\n",
      " \n",
      "iss hard’ch nai hai\n",
      "kyon\n",
      "kyon\n",
      "kyon\n",
      "kyon ki mehnat se main\n",
      "jitna time aayega\n",
      "apna toone boya hai\n",
      "kyon ka jwala\n",
      "mere jaisa shaan pighlayega\n",
      "zinda mera khud ki ab talaash mein\n",
      "parwaaz dekh par\n",
      "yahaan pighlayega\n",
      "apna time aayega\n",
      " \n",
      "ab kuchh mil payega\n",
      "aisa mera khwaab\n",
      "ab kuchh mila paseene mein hai\n",
      "shohrat ki ab aadat ki\n",
      "adalat yahaana ab aadat ki\n",
      "mohobbat ki apna time aayega\n",
      "zinda mera khwaab hausle se main\n",
      "jitni taakat ne hi tha sar uthayega\n",
      "meri bediyan pighlayega\n",
      " \n",
      "tu nanga hi to aaya hai\n",
      "phir bhi lad\n"
     ]
    }
   ],
   "source": [
    "model = trainMarkovChain(x_train)\n",
    "y_pred = generatingText('apna', model, max_len=2000)\n",
    "print(y_pred)"
   ]
  },
  {
   "cell_type": "code",
   "execution_count": 58,
   "metadata": {},
   "outputs": [],
   "source": [
    "# saving results\n",
    "def saveResult(text):\n",
    "    with open('./pred.txt','w+',encoding = 'utf8') as f:\n",
    "        f.write(text)\n",
    "saveResult(y_pred)"
   ]
  },
  {
   "cell_type": "code",
   "execution_count": null,
   "metadata": {},
   "outputs": [],
   "source": []
  }
 ],
 "metadata": {
  "kernelspec": {
   "display_name": "Python 3",
   "language": "python",
   "name": "python3"
  },
  "language_info": {
   "codemirror_mode": {
    "name": "ipython",
    "version": 3
   },
   "file_extension": ".py",
   "mimetype": "text/x-python",
   "name": "python",
   "nbconvert_exporter": "python",
   "pygments_lexer": "ipython3",
   "version": "3.7.6"
  }
 },
 "nbformat": 4,
 "nbformat_minor": 4
}
